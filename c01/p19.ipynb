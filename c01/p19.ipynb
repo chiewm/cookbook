{
 "cells": [
  {
   "cell_type": "markdown",
   "metadata": {},
   "source": [
    "#  转换并同时计算数据\n",
    "## 问题\n",
    "你需要在数据序列上执行聚集函数（比如 sum() , min() , max() ）， 但是首先你需要先转换或者过滤数据"
   ]
  },
  {
   "cell_type": "code",
   "execution_count": 3,
   "metadata": {},
   "outputs": [
    {
     "data": {
      "text/plain": [
       "55"
      ]
     },
     "execution_count": 3,
     "metadata": {},
     "output_type": "execute_result"
    }
   ],
   "source": [
    "nums = [1, 2, 3, 4, 5]\n",
    "s = sum(x * x for x in nums)\n",
    "s"
   ]
  },
  {
   "cell_type": "code",
   "execution_count": 13,
   "metadata": {},
   "outputs": [
    {
     "name": "stdout",
     "output_type": "stream",
     "text": [
      "ACME,50,123.45\n",
      "[50, 75, 20, 65]\n"
     ]
    },
    {
     "data": {
      "text/plain": [
       "20"
      ]
     },
     "execution_count": 13,
     "metadata": {},
     "output_type": "execute_result"
    }
   ],
   "source": [
    "s = ('ACME', 50, 123.45)\n",
    "print(','.join(str(x) for x in s))\n",
    "\n",
    "portfolio = [\n",
    "    {'name':'GOOG', 'shares': 50},\n",
    "    {'name':'YHOO', 'shares': 75},\n",
    "    {'name':'AOL', 'shares': 20},\n",
    "    {'name':'SCOX', 'shares': 65}\n",
    "]\n",
    "\n",
    "min_shares = min(s['shares'] for s in portfolio)\n",
    "min_shares"
   ]
  }
 ],
 "metadata": {
  "kernelspec": {
   "display_name": "Python 3",
   "language": "python",
   "name": "python3"
  },
  "language_info": {
   "codemirror_mode": {
    "name": "ipython",
    "version": 3
   },
   "file_extension": ".py",
   "mimetype": "text/x-python",
   "name": "python",
   "nbconvert_exporter": "python",
   "pygments_lexer": "ipython3",
   "version": "3.6.3"
  }
 },
 "nbformat": 4,
 "nbformat_minor": 2
}
